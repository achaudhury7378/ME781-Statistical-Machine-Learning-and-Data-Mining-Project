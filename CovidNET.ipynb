{
  "nbformat": 4,
  "nbformat_minor": 0,
  "metadata": {
    "colab": {
      "name": "CovidNET.ipynb",
      "provenance": [],
      "toc_visible": true
    },
    "kernelspec": {
      "name": "python3",
      "display_name": "Python 3"
    },
    "accelerator": "GPU"
  },
  "cells": [
    {
      "cell_type": "code",
      "metadata": {
        "id": "6rzxUgfWXJM1",
        "colab": {
          "base_uri": "https://localhost:8080/"
        },
        "outputId": "873f2bd2-7b06-4cca-cfab-c34014ccf9af"
      },
      "source": [
        "from google.colab import drive\n",
        "drive.mount('/content/drive', force_remount=True)"
      ],
      "execution_count": 1,
      "outputs": [
        {
          "output_type": "stream",
          "text": [
            "Mounted at /content/drive\n"
          ],
          "name": "stdout"
        }
      ]
    },
    {
      "cell_type": "code",
      "metadata": {
        "id": "HaGd4AEvXaSv"
      },
      "source": [
        "import os\n",
        "import numpy as np\n",
        "import matplotlib.pyplot as plt\n",
        "import matplotlib\n",
        "import matplotlib.image as mpimg"
      ],
      "execution_count": 2,
      "outputs": []
    },
    {
      "cell_type": "markdown",
      "metadata": {
        "id": "ilTP_-Pj6miR"
      },
      "source": [
        "## Import dataset"
      ]
    },
    {
      "cell_type": "markdown",
      "metadata": {
        "id": "TCKUfIE2GusM"
      },
      "source": [
        "Lung Segmented images are saved locally first and then imported\n",
        "\n",
        "---\n",
        "\n",
        "\n"
      ]
    },
    {
      "cell_type": "code",
      "metadata": {
        "colab": {
          "base_uri": "https://localhost:8080/",
          "height": 0
        },
        "id": "ADrjKdNxGusM",
        "outputId": "a29d80ff-20b5-4b67-941c-bbbe9c4fe1c8"
      },
      "source": [
        "ct_classes = os.listdir(\"/content/drive/MyDrive/ME 781 Project/Processed_Images/train/\")\n",
        "ct_classes\n",
        "'''\n",
        "ct_classes: list of classes for classification. Here, only 2 classes ['covid', 'non-covid'] are present\n",
        "'''"
      ],
      "execution_count": 3,
      "outputs": [
        {
          "output_type": "execute_result",
          "data": {
            "application/vnd.google.colaboratory.intrinsic+json": {
              "type": "string"
            },
            "text/plain": [
              "\"\\nct_classes: list of classes for classification. Here, only 2 classes ['covid', 'non-covid'] are present\\n\""
            ]
          },
          "metadata": {
            "tags": []
          },
          "execution_count": 3
        }
      ]
    },
    {
      "cell_type": "code",
      "metadata": {
        "id": "XfOr5YksGusP"
      },
      "source": [
        "base_dir = \"/content/drive/MyDrive/ME 781 Project/Processed_Images\"\n",
        "train_dir = os.path.join(base_dir, 'train')\n",
        "val_dir = os.path.join(base_dir, 'val')"
      ],
      "execution_count": 4,
      "outputs": []
    },
    {
      "cell_type": "code",
      "metadata": {
        "colab": {
          "base_uri": "https://localhost:8080/"
        },
        "id": "Obj9rUbPGusP",
        "outputId": "76f642f7-3f12-4b11-e27c-4646d747ffb0"
      },
      "source": [
        "def count_images(train_dir, val_dir, ct_classes):\n",
        "    '''\n",
        "    Function:\n",
        "    count_images:\n",
        "\n",
        "        Input variables:\n",
        "        train_dir: Directory corresponding to training data\n",
        "        val_dir: Directory corresponding to validation data\n",
        "        ct_classes: list of classes for classification\n",
        "\n",
        "        Output:\n",
        "        Calculate and prints the number of images per class in both train and validation dataset\n",
        "    '''\n",
        "\n",
        "    train_fnames = {}\n",
        "    for cls in ct_classes:\n",
        "        cls_dir = os.path.join(train_dir, cls)\n",
        "        train_fnames[cls] = os.listdir(cls_dir)\n",
        "\n",
        "    val_fnames = {}\n",
        "    for cls in ct_classes:\n",
        "        cls_dir = os.path.join(val_dir, cls)\n",
        "        val_fnames[cls] = os.listdir(cls_dir)\n",
        "        \n",
        "    print('CT Dataset')\n",
        "    print()\n",
        "    print('Train:')\n",
        "    for key in train_fnames.keys():\n",
        "        print(key, ':', len(train_fnames[key]))\n",
        "\n",
        "    print()\n",
        "\n",
        "    print('Val:')\n",
        "    for key in val_fnames.keys():\n",
        "        print(key, ':', len(val_fnames[key]))\n",
        "\n",
        "count_images(train_dir, val_dir, ct_classes)"
      ],
      "execution_count": 5,
      "outputs": [
        {
          "output_type": "stream",
          "text": [
            "CT Dataset\n",
            "\n",
            "Train:\n",
            "covid : 337\n",
            "non-covid : 385\n",
            "\n",
            "Val:\n",
            "covid : 12\n",
            "non-covid : 12\n"
          ],
          "name": "stdout"
        }
      ]
    },
    {
      "cell_type": "markdown",
      "metadata": {
        "id": "_JKCtqjjGgEc"
      },
      "source": [
        "## Pre-processing"
      ]
    },
    {
      "cell_type": "code",
      "metadata": {
        "id": "QwByeaU7dDvk",
        "colab": {
          "base_uri": "https://localhost:8080/",
          "height": 35
        },
        "outputId": "0e948fda-7399-4977-ce42-1bc948d98e51"
      },
      "source": [
        "from keras.preprocessing.image import ImageDataGenerator, array_to_img, img_to_array, load_img\n",
        "\n",
        "datagen = ImageDataGenerator(#rescale=1.0/255.0, # preprocessing_function=pre_func, \n",
        "                             samplewise_center=True, samplewise_std_normalization=True\n",
        "                             )\n",
        "'''\n",
        "datagen : Learns image parametrs to scale \n",
        "'''"
      ],
      "execution_count": 6,
      "outputs": [
        {
          "output_type": "execute_result",
          "data": {
            "application/vnd.google.colaboratory.intrinsic+json": {
              "type": "string"
            },
            "text/plain": [
              "'\\ndatagen : Learns image parametrs to scale \\n'"
            ]
          },
          "metadata": {
            "tags": []
          },
          "execution_count": 6
        }
      ]
    },
    {
      "cell_type": "code",
      "metadata": {
        "id": "lkCm3ehpWdVr",
        "colab": {
          "base_uri": "https://localhost:8080/"
        },
        "outputId": "6e406e4d-a42b-4b69-c509-fbb54ef5c926"
      },
      "source": [
        "# prepare generators to scale images\n",
        "'''\n",
        "train_generator: Imports and scales the training images\n",
        "val_generator: Imports and scales the validation images\n",
        "'''\n",
        "train_generator = datagen.flow_from_directory(train_dir, target_size=(256, 256), color_mode='rgb', \n",
        "                                                    classes=ct_classes,\n",
        "                                                    batch_size=16, shuffle=True)\n",
        "val_generator = datagen.flow_from_directory(val_dir, target_size=(256, 256), color_mode='rgb', \n",
        "                                                    classes=ct_classes, batch_size=16, shuffle=True)\n",
        "print('Batches train=%d, val=%d' % (len(train_generator), len(val_generator)))"
      ],
      "execution_count": 7,
      "outputs": [
        {
          "output_type": "stream",
          "text": [
            "Found 722 images belonging to 2 classes.\n",
            "Found 24 images belonging to 2 classes.\n",
            "Batches train=46, val=2\n"
          ],
          "name": "stdout"
        }
      ]
    },
    {
      "cell_type": "code",
      "metadata": {
        "id": "DDy_N5-RHMAF",
        "colab": {
          "base_uri": "https://localhost:8080/",
          "height": 422
        },
        "outputId": "25eb76db-968d-4a49-fd17-3893ac0477ef"
      },
      "source": [
        "for train_batch in train_generator:\n",
        "    # create a grid of 3x3 images\n",
        "    for i in range(9):\n",
        "        plt.subplot(330 + 1 + i)\n",
        "        plt.imshow(train_batch[0][i].reshape(256,256,3),)\n",
        "\n",
        "    # show the plot\n",
        "    plt.show()\n",
        "    break \n",
        "plt.show()"
      ],
      "execution_count": 8,
      "outputs": [
        {
          "output_type": "stream",
          "text": [
            "Clipping input data to the valid range for imshow with RGB data ([0..1] for floats or [0..255] for integers).\n",
            "Clipping input data to the valid range for imshow with RGB data ([0..1] for floats or [0..255] for integers).\n",
            "Clipping input data to the valid range for imshow with RGB data ([0..1] for floats or [0..255] for integers).\n",
            "Clipping input data to the valid range for imshow with RGB data ([0..1] for floats or [0..255] for integers).\n",
            "Clipping input data to the valid range for imshow with RGB data ([0..1] for floats or [0..255] for integers).\n",
            "Clipping input data to the valid range for imshow with RGB data ([0..1] for floats or [0..255] for integers).\n",
            "Clipping input data to the valid range for imshow with RGB data ([0..1] for floats or [0..255] for integers).\n",
            "Clipping input data to the valid range for imshow with RGB data ([0..1] for floats or [0..255] for integers).\n",
            "Clipping input data to the valid range for imshow with RGB data ([0..1] for floats or [0..255] for integers).\n"
          ],
          "name": "stderr"
        },
        {
          "output_type": "display_data",
          "data": {
            "image/png": "[encoded data removed]",
            "text/plain": [
              "<Figure size 432x288 with 9 Axes>"
            ]
          },
          "metadata": {
            "tags": [],
            "needs_background": "light"
          }
        }
      ]
    },
    {
      "cell_type": "markdown",
      "metadata": {
        "id": "O9KpAvZg5R0Z"
      },
      "source": [
        "## CovidNET"
      ]
    },
    {
      "cell_type": "code",
      "metadata": {
        "id": "ypxjOi0N5kho"
      },
      "source": [
        "from tensorflow.keras.models import Model\n",
        "from tensorflow.keras import layers\n",
        "from tensorflow.keras.layers import Activation\n",
        "from tensorflow.keras.layers import Dense\n",
        "from tensorflow.keras.layers import Input\n",
        "from tensorflow.keras.layers import BatchNormalization, Concatenate\n",
        "from tensorflow.keras.layers import Conv2D\n",
        "from tensorflow.keras.layers import MaxPooling2D\n",
        "from tensorflow.keras.layers import AveragePooling2D, GlobalAveragePooling2D\n",
        "from tensorflow.keras.layers import Dropout\n",
        "from tensorflow.keras.layers import Reshape\n",
        "from tensorflow.keras.layers import Lambda\n",
        "from tensorflow.keras.layers import GlobalAveragePooling2D\n",
        "from tensorflow.keras.utils import plot_model\n",
        "\n",
        "from tensorflow.keras import models\n",
        "from tensorflow.keras import backend as K\n",
        "from keras.applications.densenet import DenseNet121\n",
        "from tensorflow.keras.optimizers import SGD, Adam, RMSprop\n",
        "from keras.models import Model, load_model\n",
        "from keras.callbacks import ReduceLROnPlateau, EarlyStopping\n"
      ],
      "execution_count": 9,
      "outputs": []
    },
    {
      "cell_type": "code",
      "metadata": {
        "id": "ohvBZYga0M31",
        "colab": {
          "base_uri": "https://localhost:8080/",
          "height": 89
        },
        "outputId": "30a5ddb4-dcc4-47d3-ce21-13d89d142863"
      },
      "source": [
        "base_model = DenseNet121(include_top=False, weights='imagenet', input_shape=(256, 256, 3))\r\n",
        "'''\r\n",
        "base_model : DenseNet121 architecture is used that is pretrained on ImageNet database \r\n",
        "'''"
      ],
      "execution_count": 10,
      "outputs": [
        {
          "output_type": "stream",
          "text": [
            "Downloading data from https://storage.googleapis.com/tensorflow/keras-applications/densenet/densenet121_weights_tf_dim_ordering_tf_kernels_notop.h5\n",
            "29089792/29084464 [==============================] - 1s 0us/step\n"
          ],
          "name": "stdout"
        },
        {
          "output_type": "execute_result",
          "data": {
            "application/vnd.google.colaboratory.intrinsic+json": {
              "type": "string"
            },
            "text/plain": [
              "'\\nbase_model : DenseNet121 architecture is used that is pretrained on ImageNet database \\n'"
            ]
          },
          "metadata": {
            "tags": []
          },
          "execution_count": 10
        }
      ]
    },
    {
      "cell_type": "code",
      "metadata": {
        "id": "Qtpn1amr3hRB"
      },
      "source": [
        "# add a global spatial average pooling layer\n",
        "x = base_model.output\n",
        "x = GlobalAveragePooling2D()(x)\n",
        "predictions = Dense(2, activation='softmax')(x)\n",
        "\n",
        "# this is the model we will train\n",
        "model = Model(inputs=base_model.input, outputs=predictions)\n",
        "model.compile(optimizer=SGD(lr=0.01, momentum=0.9), loss='categorical_crossentropy', metrics=['acc', 'mse'])"
      ],
      "execution_count": 11,
      "outputs": []
    },
    {
      "cell_type": "code",
      "metadata": {
        "colab": {
          "base_uri": "https://localhost:8080/",
          "height": 1000
        },
        "id": "dAFXylN0cD3s",
        "outputId": "22d167ab-0c13-4f52-d995-6873fda86db7"
      },
      "source": [
        "history = model.fit(train_generator, validation_data=val_generator, epochs=100, callbacks=[\r\n",
        "    ReduceLROnPlateau(monitor='val_loss', factor=0.1, patience=5, verbose=1, mode='auto', min_lr=1e-05)\r\n",
        "])\r\n",
        "# EarlyStopping(monitor='val_loss', min_delta=0, patience=0, verbose=0, \r\n",
        "#               mode='auto', baseline=None, restore_best_weights=False)\r\n",
        "'''\r\n",
        "Model is fitted with adam optimizer and categorical crossentropy loss with 200 epochs \r\n",
        "and batch size = 16 with lr is 1e-05 and also ReduceLROnPlateau is also being used\r\n",
        "'''"
      ],
      "execution_count": null,
      "outputs": [
        {
          "output_type": "stream",
          "text": [
            "Epoch 1/100\n",
            "46/46 [==============================] - 11s 247ms/step - loss: 1.6107 - acc: 0.5582 - mse: 0.3554 - val_loss: 38.4065 - val_acc: 0.5000 - val_mse: 0.5000\n",
            "Epoch 2/100\n",
            "46/46 [==============================] - 10s 218ms/step - loss: 0.9239 - acc: 0.6066 - mse: 0.2800 - val_loss: 78.0129 - val_acc: 0.5000 - val_mse: 0.5000\n",
            "Epoch 3/100\n",
            "46/46 [==============================] - 10s 219ms/step - loss: 0.6066 - acc: 0.6939 - mse: 0.2054 - val_loss: 5.1002 - val_acc: 0.5000 - val_mse: 0.4706\n",
            "Epoch 4/100\n",
            "46/46 [==============================] - 10s 217ms/step - loss: 0.6134 - acc: 0.7535 - mse: 0.1851 - val_loss: 1.9840 - val_acc: 0.6250 - val_mse: 0.3590\n",
            "Epoch 5/100\n",
            "46/46 [==============================] - 10s 215ms/step - loss: 0.5780 - acc: 0.7632 - mse: 0.1760 - val_loss: 0.9667 - val_acc: 0.7083 - val_mse: 0.2609\n",
            "Epoch 6/100\n",
            "46/46 [==============================] - 10s 214ms/step - loss: 0.5111 - acc: 0.7756 - mse: 0.1615 - val_loss: 0.6739 - val_acc: 0.6667 - val_mse: 0.2352\n",
            "Epoch 7/100\n",
            "46/46 [==============================] - 10s 213ms/step - loss: 0.4523 - acc: 0.8144 - mse: 0.1336 - val_loss: 1.2834 - val_acc: 0.7083 - val_mse: 0.2557\n",
            "Epoch 8/100\n",
            "46/46 [==============================] - 10s 214ms/step - loss: 0.3924 - acc: 0.8684 - mse: 0.1032 - val_loss: 7.3074 - val_acc: 0.5000 - val_mse: 0.4995\n",
            "Epoch 9/100\n",
            "46/46 [==============================] - 10s 215ms/step - loss: 0.4996 - acc: 0.8283 - mse: 0.1354 - val_loss: 1.3334 - val_acc: 0.5833 - val_mse: 0.3516\n",
            "Epoch 10/100\n",
            "46/46 [==============================] - 10s 216ms/step - loss: 0.3907 - acc: 0.8324 - mse: 0.1191 - val_loss: 1.2279 - val_acc: 0.6667 - val_mse: 0.2912\n",
            "Epoch 11/100\n",
            "46/46 [==============================] - ETA: 0s - loss: 0.2314 - acc: 0.9114 - mse: 0.0661\n",
            "Epoch 00011: ReduceLROnPlateau reducing learning rate to 0.0009999999776482583.\n",
            "46/46 [==============================] - 10s 216ms/step - loss: 0.2314 - acc: 0.9114 - mse: 0.0661 - val_loss: 0.7348 - val_acc: 0.7917 - val_mse: 0.1366\n",
            "Epoch 12/100\n",
            "46/46 [==============================] - 10s 216ms/step - loss: 0.5253 - acc: 0.8366 - mse: 0.1276 - val_loss: 0.6836 - val_acc: 0.7917 - val_mse: 0.1565\n",
            "Epoch 13/100\n",
            "46/46 [==============================] - 10s 215ms/step - loss: 0.1065 - acc: 0.9626 - mse: 0.0295 - val_loss: 0.2524 - val_acc: 0.9583 - val_mse: 0.0606\n",
            "Epoch 14/100\n",
            "46/46 [==============================] - 10s 215ms/step - loss: 0.0449 - acc: 0.9875 - mse: 0.0110 - val_loss: 0.3449 - val_acc: 0.9583 - val_mse: 0.0726\n",
            "Epoch 15/100\n",
            "46/46 [==============================] - 10s 214ms/step - loss: 0.0514 - acc: 0.9806 - mse: 0.0143 - val_loss: 0.5089 - val_acc: 0.7500 - val_mse: 0.1665\n",
            "Epoch 16/100\n",
            "46/46 [==============================] - 10s 215ms/step - loss: 0.0282 - acc: 0.9945 - mse: 0.0066 - val_loss: 0.2617 - val_acc: 0.8333 - val_mse: 0.0937\n",
            "Epoch 17/100\n",
            "46/46 [==============================] - 10s 215ms/step - loss: 0.0405 - acc: 0.9917 - mse: 0.0084 - val_loss: 0.9323 - val_acc: 0.7917 - val_mse: 0.1997\n",
            "Epoch 18/100\n",
            "46/46 [==============================] - 10s 215ms/step - loss: 0.0546 - acc: 0.9834 - mse: 0.0124 - val_loss: 0.2172 - val_acc: 0.8750 - val_mse: 0.0713\n",
            "Epoch 19/100\n",
            "46/46 [==============================] - 10s 215ms/step - loss: 0.0265 - acc: 0.9889 - mse: 0.0071 - val_loss: 0.2061 - val_acc: 0.9167 - val_mse: 0.0625\n",
            "Epoch 20/100\n",
            "46/46 [==============================] - 10s 215ms/step - loss: 0.0273 - acc: 0.9917 - mse: 0.0069 - val_loss: 0.1694 - val_acc: 0.8750 - val_mse: 0.0570\n",
            "Epoch 21/100\n",
            "46/46 [==============================] - 10s 215ms/step - loss: 0.0113 - acc: 0.9986 - mse: 0.0019 - val_loss: 0.1683 - val_acc: 0.9167 - val_mse: 0.0539\n",
            "Epoch 22/100\n",
            "46/46 [==============================] - 10s 215ms/step - loss: 0.0218 - acc: 0.9986 - mse: 0.0044 - val_loss: 0.1902 - val_acc: 0.9167 - val_mse: 0.0633\n",
            "Epoch 23/100\n",
            "46/46 [==============================] - 10s 215ms/step - loss: 0.0130 - acc: 0.9972 - mse: 0.0022 - val_loss: 0.2539 - val_acc: 0.9167 - val_mse: 0.0788\n",
            "Epoch 24/100\n",
            "46/46 [==============================] - 10s 215ms/step - loss: 0.0197 - acc: 0.9945 - mse: 0.0047 - val_loss: 0.1648 - val_acc: 0.9583 - val_mse: 0.0472\n",
            "Epoch 25/100\n",
            "46/46 [==============================] - 10s 215ms/step - loss: 0.0180 - acc: 0.9931 - mse: 0.0045 - val_loss: 0.1745 - val_acc: 0.9167 - val_mse: 0.0563\n",
            "Epoch 26/100\n",
            "46/46 [==============================] - 10s 215ms/step - loss: 0.0157 - acc: 0.9945 - mse: 0.0035 - val_loss: 0.1731 - val_acc: 0.9583 - val_mse: 0.0504\n",
            "Epoch 27/100\n",
            "46/46 [==============================] - 10s 215ms/step - loss: 0.0136 - acc: 0.9945 - mse: 0.0027 - val_loss: 0.1634 - val_acc: 0.9583 - val_mse: 0.0502\n",
            "Epoch 28/100\n",
            "46/46 [==============================] - 10s 216ms/step - loss: 0.0118 - acc: 0.9972 - mse: 0.0029 - val_loss: 0.2004 - val_acc: 0.9167 - val_mse: 0.0620\n",
            "Epoch 29/100\n",
            "46/46 [==============================] - 10s 215ms/step - loss: 0.0161 - acc: 0.9945 - mse: 0.0040 - val_loss: 0.2280 - val_acc: 0.9167 - val_mse: 0.0657\n",
            "Epoch 30/100\n",
            "46/46 [==============================] - 10s 215ms/step - loss: 0.0088 - acc: 0.9986 - mse: 0.0015 - val_loss: 0.1912 - val_acc: 0.9583 - val_mse: 0.0565\n",
            "Epoch 31/100\n",
            "46/46 [==============================] - 10s 215ms/step - loss: 0.0134 - acc: 0.9958 - mse: 0.0034 - val_loss: 0.2106 - val_acc: 0.9583 - val_mse: 0.0593\n",
            "Epoch 32/100\n",
            "46/46 [==============================] - ETA: 0s - loss: 0.0043 - acc: 1.0000 - mse: 2.3839e-04\n",
            "Epoch 00032: ReduceLROnPlateau reducing learning rate to 9.999999310821295e-05.\n",
            "46/46 [==============================] - 10s 215ms/step - loss: 0.0043 - acc: 1.0000 - mse: 2.3839e-04 - val_loss: 0.2148 - val_acc: 0.9583 - val_mse: 0.0619\n",
            "Epoch 33/100\n",
            "46/46 [==============================] - 10s 215ms/step - loss: 0.0046 - acc: 1.0000 - mse: 4.2157e-04 - val_loss: 0.2089 - val_acc: 0.9167 - val_mse: 0.0634\n",
            "Epoch 34/100\n",
            "46/46 [==============================] - 10s 215ms/step - loss: 0.0131 - acc: 0.9958 - mse: 0.0029 - val_loss: 0.2021 - val_acc: 0.9167 - val_mse: 0.0652\n",
            "Epoch 35/100\n",
            "46/46 [==============================] - 10s 215ms/step - loss: 0.0039 - acc: 1.0000 - mse: 1.7938e-04 - val_loss: 0.2019 - val_acc: 0.9167 - val_mse: 0.0658\n",
            "Epoch 36/100\n",
            "46/46 [==============================] - 10s 215ms/step - loss: 0.0083 - acc: 0.9986 - mse: 0.0013 - val_loss: 0.1987 - val_acc: 0.9167 - val_mse: 0.0652\n",
            "Epoch 37/100\n",
            "45/46 [============================>.] - ETA: 0s - loss: 0.0061 - acc: 0.9986 - mse: 9.1202e-04\n",
            "Epoch 00037: ReduceLROnPlateau reducing learning rate to 1e-05.\n",
            "46/46 [==============================] - 10s 215ms/step - loss: 0.0061 - acc: 0.9986 - mse: 9.0949e-04 - val_loss: 0.1977 - val_acc: 0.9167 - val_mse: 0.0654\n",
            "Epoch 38/100\n",
            "46/46 [==============================] - 10s 215ms/step - loss: 0.0093 - acc: 0.9986 - mse: 0.0019 - val_loss: 0.1994 - val_acc: 0.9167 - val_mse: 0.0661\n",
            "Epoch 39/100\n",
            "46/46 [==============================] - 10s 216ms/step - loss: 0.0091 - acc: 0.9986 - mse: 0.0018 - val_loss: 0.2014 - val_acc: 0.9167 - val_mse: 0.0665\n",
            "Epoch 40/100\n",
            "46/46 [==============================] - 10s 215ms/step - loss: 0.0056 - acc: 0.9986 - mse: 7.4615e-04 - val_loss: 0.2004 - val_acc: 0.9167 - val_mse: 0.0656\n",
            "Epoch 41/100\n",
            "46/46 [==============================] - 10s 214ms/step - loss: 0.0067 - acc: 0.9986 - mse: 0.0011 - val_loss: 0.1995 - val_acc: 0.9167 - val_mse: 0.0651\n",
            "Epoch 42/100\n",
            "46/46 [==============================] - 10s 215ms/step - loss: 0.0046 - acc: 1.0000 - mse: 2.9882e-04 - val_loss: 0.1982 - val_acc: 0.9167 - val_mse: 0.0643\n",
            "Epoch 43/100\n",
            "46/46 [==============================] - 10s 216ms/step - loss: 0.0042 - acc: 1.0000 - mse: 2.9251e-04 - val_loss: 0.1977 - val_acc: 0.9167 - val_mse: 0.0649\n",
            "Epoch 44/100\n",
            "46/46 [==============================] - 10s 215ms/step - loss: 0.0183 - acc: 0.9972 - mse: 0.0045 - val_loss: 0.1981 - val_acc: 0.9167 - val_mse: 0.0654\n",
            "Epoch 45/100\n",
            "46/46 [==============================] - 10s 215ms/step - loss: 0.0048 - acc: 0.9986 - mse: 6.1649e-04 - val_loss: 0.1993 - val_acc: 0.9167 - val_mse: 0.0664\n",
            "Epoch 46/100\n",
            "46/46 [==============================] - 10s 215ms/step - loss: 0.0034 - acc: 1.0000 - mse: 1.7719e-04 - val_loss: 0.1997 - val_acc: 0.9167 - val_mse: 0.0665\n",
            "Epoch 47/100\n",
            "46/46 [==============================] - 10s 215ms/step - loss: 0.0078 - acc: 0.9986 - mse: 0.0014 - val_loss: 0.1978 - val_acc: 0.9167 - val_mse: 0.0643\n",
            "Epoch 48/100\n",
            "46/46 [==============================] - 10s 215ms/step - loss: 0.0180 - acc: 0.9945 - mse: 0.0045 - val_loss: 0.1985 - val_acc: 0.9167 - val_mse: 0.0655\n",
            "Epoch 49/100\n",
            "46/46 [==============================] - 10s 215ms/step - loss: 0.0139 - acc: 0.9986 - mse: 0.0017 - val_loss: 0.1994 - val_acc: 0.9167 - val_mse: 0.0669\n",
            "Epoch 50/100\n",
            "46/46 [==============================] - 10s 215ms/step - loss: 0.0102 - acc: 0.9986 - mse: 0.0018 - val_loss: 0.2013 - val_acc: 0.8750 - val_mse: 0.0685\n",
            "Epoch 51/100\n",
            "46/46 [==============================] - 10s 215ms/step - loss: 0.0143 - acc: 0.9986 - mse: 0.0024 - val_loss: 0.1984 - val_acc: 0.8750 - val_mse: 0.0674\n",
            "Epoch 52/100\n",
            "46/46 [==============================] - 10s 215ms/step - loss: 0.0127 - acc: 0.9958 - mse: 0.0031 - val_loss: 0.1959 - val_acc: 0.9167 - val_mse: 0.0657\n",
            "Epoch 53/100\n",
            "46/46 [==============================] - 10s 214ms/step - loss: 0.0032 - acc: 1.0000 - mse: 1.6008e-04 - val_loss: 0.1937 - val_acc: 0.9167 - val_mse: 0.0642\n",
            "Epoch 54/100\n",
            "46/46 [==============================] - 10s 218ms/step - loss: 0.0131 - acc: 0.9986 - mse: 0.0020 - val_loss: 0.1951 - val_acc: 0.9167 - val_mse: 0.0649\n",
            "Epoch 55/100\n",
            "46/46 [==============================] - 10s 214ms/step - loss: 0.0044 - acc: 0.9986 - mse: 6.4678e-04 - val_loss: 0.1950 - val_acc: 0.9167 - val_mse: 0.0640\n",
            "Epoch 56/100\n",
            "46/46 [==============================] - 10s 215ms/step - loss: 0.0084 - acc: 0.9986 - mse: 0.0014 - val_loss: 0.1940 - val_acc: 0.9167 - val_mse: 0.0634\n",
            "Epoch 57/100\n",
            "46/46 [==============================] - 10s 215ms/step - loss: 0.0088 - acc: 0.9986 - mse: 0.0015 - val_loss: 0.1943 - val_acc: 0.9167 - val_mse: 0.0643\n",
            "Epoch 58/100\n",
            "46/46 [==============================] - 10s 216ms/step - loss: 0.0093 - acc: 0.9986 - mse: 0.0012 - val_loss: 0.1940 - val_acc: 0.9167 - val_mse: 0.0637\n",
            "Epoch 59/100\n",
            "46/46 [==============================] - 10s 215ms/step - loss: 0.0070 - acc: 1.0000 - mse: 7.0746e-04 - val_loss: 0.1949 - val_acc: 0.9167 - val_mse: 0.0650\n",
            "Epoch 60/100\n",
            "46/46 [==============================] - 10s 215ms/step - loss: 0.0140 - acc: 0.9958 - mse: 0.0036 - val_loss: 0.1950 - val_acc: 0.9167 - val_mse: 0.0651\n",
            "Epoch 61/100\n",
            "46/46 [==============================] - 10s 216ms/step - loss: 0.0083 - acc: 0.9972 - mse: 0.0014 - val_loss: 0.1948 - val_acc: 0.9167 - val_mse: 0.0650\n",
            "Epoch 62/100\n",
            "46/46 [==============================] - 10s 215ms/step - loss: 0.0119 - acc: 0.9972 - mse: 0.0026 - val_loss: 0.1951 - val_acc: 0.9167 - val_mse: 0.0649\n",
            "Epoch 63/100\n",
            "46/46 [==============================] - 10s 215ms/step - loss: 0.0096 - acc: 0.9986 - mse: 0.0018 - val_loss: 0.1956 - val_acc: 0.9167 - val_mse: 0.0652\n",
            "Epoch 64/100\n",
            "46/46 [==============================] - 10s 215ms/step - loss: 0.0080 - acc: 0.9986 - mse: 0.0011 - val_loss: 0.1942 - val_acc: 0.9167 - val_mse: 0.0639\n",
            "Epoch 65/100\n",
            "46/46 [==============================] - 10s 215ms/step - loss: 0.0168 - acc: 0.9945 - mse: 0.0040 - val_loss: 0.1942 - val_acc: 0.9167 - val_mse: 0.0637\n",
            "Epoch 66/100\n",
            "46/46 [==============================] - 10s 215ms/step - loss: 0.0052 - acc: 1.0000 - mse: 5.3237e-04 - val_loss: 0.1941 - val_acc: 0.9167 - val_mse: 0.0638\n",
            "Epoch 67/100\n",
            "46/46 [==============================] - 10s 215ms/step - loss: 0.0146 - acc: 0.9958 - mse: 0.0038 - val_loss: 0.1954 - val_acc: 0.9167 - val_mse: 0.0653\n",
            "Epoch 68/100\n",
            "46/46 [==============================] - 10s 215ms/step - loss: 0.0235 - acc: 0.9931 - mse: 0.0056 - val_loss: 0.1955 - val_acc: 0.9167 - val_mse: 0.0660\n",
            "Epoch 69/100\n",
            "46/46 [==============================] - 10s 215ms/step - loss: 0.0089 - acc: 0.9986 - mse: 0.0015 - val_loss: 0.1950 - val_acc: 0.9167 - val_mse: 0.0658\n",
            "Epoch 70/100\n",
            "46/46 [==============================] - 10s 215ms/step - loss: 0.0036 - acc: 1.0000 - mse: 2.3268e-04 - val_loss: 0.1946 - val_acc: 0.9167 - val_mse: 0.0651\n",
            "Epoch 71/100\n",
            "46/46 [==============================] - 10s 215ms/step - loss: 0.0126 - acc: 0.9958 - mse: 0.0030 - val_loss: 0.1941 - val_acc: 0.9167 - val_mse: 0.0652\n",
            "Epoch 72/100\n",
            "46/46 [==============================] - 10s 215ms/step - loss: 0.0169 - acc: 0.9945 - mse: 0.0044 - val_loss: 0.1937 - val_acc: 0.9167 - val_mse: 0.0653\n",
            "Epoch 73/100\n",
            "46/46 [==============================] - 10s 215ms/step - loss: 0.0043 - acc: 1.0000 - mse: 5.1436e-04 - val_loss: 0.1914 - val_acc: 0.9167 - val_mse: 0.0631\n",
            "Epoch 74/100\n",
            "46/46 [==============================] - 10s 215ms/step - loss: 0.0097 - acc: 0.9986 - mse: 0.0021 - val_loss: 0.1916 - val_acc: 0.9167 - val_mse: 0.0635\n",
            "Epoch 75/100\n",
            "46/46 [==============================] - 10s 214ms/step - loss: 0.0046 - acc: 1.0000 - mse: 2.3623e-04 - val_loss: 0.1913 - val_acc: 0.9167 - val_mse: 0.0638\n",
            "Epoch 76/100\n",
            "46/46 [==============================] - 10s 215ms/step - loss: 0.0072 - acc: 1.0000 - mse: 8.4147e-04 - val_loss: 0.1918 - val_acc: 0.9167 - val_mse: 0.0642\n",
            "Epoch 77/100\n",
            "46/46 [==============================] - 10s 214ms/step - loss: 0.0091 - acc: 0.9986 - mse: 0.0016 - val_loss: 0.1907 - val_acc: 0.9167 - val_mse: 0.0640\n",
            "Epoch 78/100\n",
            "46/46 [==============================] - 10s 214ms/step - loss: 0.0059 - acc: 1.0000 - mse: 4.4940e-04 - val_loss: 0.1909 - val_acc: 0.9167 - val_mse: 0.0637\n",
            "Epoch 79/100\n",
            "46/46 [==============================] - 10s 215ms/step - loss: 0.0129 - acc: 0.9958 - mse: 0.0031 - val_loss: 0.1909 - val_acc: 0.9167 - val_mse: 0.0636\n",
            "Epoch 80/100\n",
            "46/46 [==============================] - 10s 215ms/step - loss: 0.0052 - acc: 1.0000 - mse: 5.6174e-04 - val_loss: 0.1898 - val_acc: 0.9167 - val_mse: 0.0626\n",
            "Epoch 81/100\n",
            "46/46 [==============================] - 10s 215ms/step - loss: 0.0100 - acc: 0.9972 - mse: 0.0023 - val_loss: 0.1904 - val_acc: 0.9167 - val_mse: 0.0631\n",
            "Epoch 82/100\n",
            "46/46 [==============================] - 10s 215ms/step - loss: 0.0108 - acc: 0.9945 - mse: 0.0026 - val_loss: 0.1900 - val_acc: 0.9167 - val_mse: 0.0629\n",
            "Epoch 83/100\n",
            "46/46 [==============================] - 10s 215ms/step - loss: 0.0053 - acc: 0.9986 - mse: 8.4819e-04 - val_loss: 0.1906 - val_acc: 0.9167 - val_mse: 0.0625\n",
            "Epoch 84/100\n",
            "46/46 [==============================] - 10s 215ms/step - loss: 0.0047 - acc: 1.0000 - mse: 5.4306e-04 - val_loss: 0.1912 - val_acc: 0.9167 - val_mse: 0.0622\n",
            "Epoch 85/100\n",
            "46/46 [==============================] - 10s 215ms/step - loss: 0.0127 - acc: 0.9958 - mse: 0.0033 - val_loss: 0.1913 - val_acc: 0.9167 - val_mse: 0.0626\n",
            "Epoch 86/100\n",
            "46/46 [==============================] - 10s 215ms/step - loss: 0.0051 - acc: 1.0000 - mse: 4.4754e-04 - val_loss: 0.1903 - val_acc: 0.9167 - val_mse: 0.0623\n",
            "Epoch 87/100\n",
            "46/46 [==============================] - 10s 215ms/step - loss: 0.0099 - acc: 0.9986 - mse: 0.0020 - val_loss: 0.1898 - val_acc: 0.9167 - val_mse: 0.0622\n",
            "Epoch 88/100\n",
            "46/46 [==============================] - 10s 215ms/step - loss: 0.0089 - acc: 0.9986 - mse: 0.0018 - val_loss: 0.1898 - val_acc: 0.9167 - val_mse: 0.0622\n",
            "Epoch 89/100\n",
            "46/46 [==============================] - 10s 215ms/step - loss: 0.0104 - acc: 0.9986 - mse: 0.0019 - val_loss: 0.1900 - val_acc: 0.9167 - val_mse: 0.0627\n",
            "Epoch 90/100\n",
            "46/46 [==============================] - 10s 215ms/step - loss: 0.0086 - acc: 1.0000 - mse: 0.0013 - val_loss: 0.1902 - val_acc: 0.9167 - val_mse: 0.0625\n",
            "Epoch 91/100\n",
            "46/46 [==============================] - 10s 215ms/step - loss: 0.0115 - acc: 0.9972 - mse: 0.0026 - val_loss: 0.1906 - val_acc: 0.9167 - val_mse: 0.0628\n",
            "Epoch 92/100\n",
            "46/46 [==============================] - 10s 215ms/step - loss: 0.0078 - acc: 0.9972 - mse: 0.0018 - val_loss: 0.1922 - val_acc: 0.9167 - val_mse: 0.0644\n",
            "Epoch 93/100\n",
            "46/46 [==============================] - 10s 215ms/step - loss: 0.0067 - acc: 0.9986 - mse: 0.0013 - val_loss: 0.1899 - val_acc: 0.9167 - val_mse: 0.0628\n",
            "Epoch 94/100\n",
            "46/46 [==============================] - 10s 215ms/step - loss: 0.0085 - acc: 0.9986 - mse: 0.0013 - val_loss: 0.1887 - val_acc: 0.9167 - val_mse: 0.0623\n",
            "Epoch 95/100\n",
            "46/46 [==============================] - 10s 215ms/step - loss: 0.0080 - acc: 1.0000 - mse: 8.2135e-04 - val_loss: 0.1888 - val_acc: 0.9167 - val_mse: 0.0626\n",
            "Epoch 96/100\n",
            "46/46 [==============================] - 10s 215ms/step - loss: 0.0097 - acc: 0.9972 - mse: 0.0018 - val_loss: 0.1891 - val_acc: 0.9167 - val_mse: 0.0624\n",
            "Epoch 97/100\n",
            "46/46 [==============================] - 10s 215ms/step - loss: 0.0045 - acc: 1.0000 - mse: 3.2343e-04 - val_loss: 0.1896 - val_acc: 0.9167 - val_mse: 0.0629\n",
            "Epoch 98/100\n",
            "46/46 [==============================] - 10s 215ms/step - loss: 0.0038 - acc: 1.0000 - mse: 2.1530e-04 - val_loss: 0.1875 - val_acc: 0.9167 - val_mse: 0.0614\n",
            "Epoch 99/100\n",
            "46/46 [==============================] - 10s 215ms/step - loss: 0.0229 - acc: 0.9986 - mse: 0.0023 - val_loss: 0.1914 - val_acc: 0.9167 - val_mse: 0.0639\n",
            "Epoch 100/100\n",
            "46/46 [==============================] - 10s 216ms/step - loss: 0.0094 - acc: 0.9958 - mse: 0.0020 - val_loss: 0.1921 - val_acc: 0.9167 - val_mse: 0.0644\n"
          ],
          "name": "stdout"
        },
        {
          "output_type": "execute_result",
          "data": {
            "application/vnd.google.colaboratory.intrinsic+json": {
              "type": "string"
            },
            "text/plain": [
              "'\\nModel is fitted with adam optimizer and categorical crossentropy loss with 200 epochs \\nand batch size = 16 with lr is 1e-05 and also ReduceLROnPlateau is also being used\\n'"
            ]
          },
          "metadata": {
            "tags": []
          },
          "execution_count": 78
        }
      ]
    }
  ]
}